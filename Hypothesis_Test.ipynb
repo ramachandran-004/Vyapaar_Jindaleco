{
 "cells": [
  {
   "cell_type": "code",
   "execution_count": 1,
   "metadata": {},
   "outputs": [
    {
     "name": "stdout",
     "output_type": "stream",
     "text": [
      "Hypothesis Test: Tesla Entering the Indian Market\n",
      "------------------------------------------------\n",
      "Null Hypothesis (H0): Tesla is NOT entering the Indian market.\n",
      "Alternative Hypothesis (H1): Tesla IS entering the Indian market.\n",
      "We analyze the probability of observing 5 or more favorable events supporting Tesla's entry.\n",
      "If this probability is very low under H0, we reject the null hypothesis.\n",
      "Total Observations (n): 7\n",
      "Success Probability Under H0 (p): 0.05\n",
      "Favorable Events Required (x): 5\n",
      "Computed P-value: 0.0000060273\n",
      "Result: P-value is less than 0.05, so we REJECT the null hypothesis.\n",
      "Conclusion: Strong evidence suggests that Tesla is entering the Indian market.\n"
     ]
    }
   ],
   "source": [
    "from scipy.stats import binom\n",
    "\n",
    "def binom_dist_range(n, p, x):\n",
    "    \"\"\"\n",
    "    Computes the probability of observing x or more successes in a binomial distribution,\n",
    "    equivalent to Excel's BINOM.DIST.RANGE(n, p, x)\n",
    "    \n",
    "    :param n: Total number of trials (observations)\n",
    "    :param p: Probability of success in each trial\n",
    "    :param x: Minimum number of successes to calculate probability for\n",
    "    :return: Probability of getting at least x successes\n",
    "    \"\"\"\n",
    "    p_value = 1 - binom.cdf(x - 1, n, p)\n",
    "    return p_value\n",
    "\n",
    "# Hypothesis Test Explanation\n",
    "print(\"Hypothesis Test: Tesla Entering the Indian Market\")\n",
    "print(\"------------------------------------------------\")\n",
    "print(\"Null Hypothesis (H0): Tesla is NOT entering the Indian market.\")\n",
    "print(\"Alternative Hypothesis (H1): Tesla IS entering the Indian market.\")\n",
    "print(\"We analyze the probability of observing 5 or more favorable events supporting Tesla's entry.\")\n",
    "print(\"If this probability is very low under H0, we reject the null hypothesis.\")\n",
    "\n",
    "# Given values for the binomial test\n",
    "n = 7  # Total number of observed events (positive + negative indicators)\n",
    "p = 0.05  # Probability of success under the null hypothesis (Tesla not entering)\n",
    "x = 5  # Minimum number of favorable events required\n",
    "\n",
    "# Compute p-value\n",
    "p_value = binom_dist_range(n, p, x)\n",
    "\n",
    "# Display results\n",
    "print(f\"Total Observations (n): {n}\")\n",
    "print(f\"Success Probability Under H0 (p): {p}\")\n",
    "print(f\"Favorable Events Required (x): {x}\")\n",
    "print(f\"Computed P-value: {p_value:.10f}\")\n",
    "\n",
    "# Decision Rule\n",
    "alpha = 0.05  # Significance level\n",
    "if p_value < alpha:\n",
    "    print(\"Result: P-value is less than 0.05, so we REJECT the null hypothesis.\")\n",
    "    print(\"Conclusion: Strong evidence suggests that Tesla is entering the Indian market.\")\n",
    "else:\n",
    "    print(\"Result: P-value is greater than 0.05, so we FAIL TO REJECT the null hypothesis.\")\n",
    "    print(\"Conclusion: Insufficient evidence to confirm Tesla's entry into the Indian market.\")\n"
   ]
  }
 ],
 "metadata": {
  "kernelspec": {
   "display_name": "Python 3",
   "language": "python",
   "name": "python3"
  },
  "language_info": {
   "codemirror_mode": {
    "name": "ipython",
    "version": 3
   },
   "file_extension": ".py",
   "mimetype": "text/x-python",
   "name": "python",
   "nbconvert_exporter": "python",
   "pygments_lexer": "ipython3",
   "version": "3.12.1"
  }
 },
 "nbformat": 4,
 "nbformat_minor": 2
}
